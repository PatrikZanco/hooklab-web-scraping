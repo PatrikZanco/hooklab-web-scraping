{
 "cells": [
  {
   "cell_type": "code",
   "execution_count": 1,
   "metadata": {},
   "outputs": [],
   "source": [
    "from selenium import webdriver\n",
    "from selenium.webdriver.common.by import By\n",
    "from bs4 import BeautifulSoup\n",
    "import requests as re"
   ]
  },
  {
   "cell_type": "code",
   "execution_count": 2,
   "metadata": {},
   "outputs": [],
   "source": [
    "driver = webdriver.Chrome()\n",
    "driver.get(\"https://www.magazineluiza.com.br/2x-omega-3-1360mg-ultra-concentrado-epa-dha-selo-ifos-180cap-ecomev/p/eb0c57c3e3/sa/suom/\")\n"
   ]
  },
  {
   "cell_type": "code",
   "execution_count": 3,
   "metadata": {},
   "outputs": [
    {
     "name": "stdout",
     "output_type": "stream",
     "text": [
      "Nome do produto: 2x Omega 3 1360mg Ultra Concentrado Epa Dha Selo Ifos 180cáp - ecomev - Ômega 3 / Óleo de Peixe - Magazine Luiza\n"
     ]
    }
   ],
   "source": [
    "\n",
    "title = driver.title\n",
    "print(f\"Nome do produto: {title}\")"
   ]
  },
  {
   "cell_type": "code",
   "execution_count": 4,
   "metadata": {},
   "outputs": [],
   "source": [
    "html_page = driver.page_source\n",
    "soup = BeautifulSoup(html_page, 'html.parser')\n"
   ]
  },
  {
   "cell_type": "code",
   "execution_count": 5,
   "metadata": {},
   "outputs": [
    {
     "name": "stdout",
     "output_type": "stream",
     "text": [
      "Quantidade em estoque: 2 unidades\n"
     ]
    }
   ],
   "source": [
    "label = soup.find('label', {'data-testid': 'attribute-item'})\n",
    "\n",
    "# Extraindo a quantidade do texto interno \n",
    "quantidade_texto = label.get_text(strip=True)\n",
    "\n",
    "# extrai apenas o número usando verificando o conteúdo\n",
    "quantidade = quantidade_texto.split()[0] \n",
    "print(f\"Quantidade em estoque: {quantidade} unidades\")"
   ]
  },
  {
   "cell_type": "code",
   "execution_count": 6,
   "metadata": {},
   "outputs": [
    {
     "name": "stdout",
     "output_type": "stream",
     "text": [
      "Preço: ouR$ 110,00\n"
     ]
    }
   ],
   "source": [
    "elements = soup.find_all(class_=\"sc-dcJsrY eLxcFM sc-eHsDsR eGPZvr\")\n",
    "\n",
    "# Extraindo e imprimindo apenas o conteúdo do último elemento encontrado\n",
    "if elements:  \n",
    "    last_content = elements[-1].get_text(strip=True)  # Obtém o texto do último elemento\n",
    "    print(f'Preço: {last_content}')\n",
    "else:\n",
    "    print(\"Nenhum conteúdo encontrado.\")"
   ]
  },
  {
   "cell_type": "code",
   "execution_count": 7,
   "metadata": {},
   "outputs": [],
   "source": [
    "import pandas as pd"
   ]
  },
  {
   "cell_type": "code",
   "execution_count": 8,
   "metadata": {},
   "outputs": [],
   "source": [
    "df = {\n",
    "    \"title\" :[title],\n",
    "    \"stock_availability\": [quantidade],\n",
    "    \"price\": [last_content],\n",
    "}"
   ]
  },
  {
   "cell_type": "code",
   "execution_count": 9,
   "metadata": {},
   "outputs": [
    {
     "data": {
      "text/html": [
       "<div>\n",
       "<style scoped>\n",
       "    .dataframe tbody tr th:only-of-type {\n",
       "        vertical-align: middle;\n",
       "    }\n",
       "\n",
       "    .dataframe tbody tr th {\n",
       "        vertical-align: top;\n",
       "    }\n",
       "\n",
       "    .dataframe thead th {\n",
       "        text-align: right;\n",
       "    }\n",
       "</style>\n",
       "<table border=\"1\" class=\"dataframe\">\n",
       "  <thead>\n",
       "    <tr style=\"text-align: right;\">\n",
       "      <th></th>\n",
       "      <th>title</th>\n",
       "      <th>stock_availability</th>\n",
       "      <th>price</th>\n",
       "    </tr>\n",
       "  </thead>\n",
       "  <tbody>\n",
       "    <tr>\n",
       "      <th>0</th>\n",
       "      <td>2x Omega 3 1360mg Ultra Concentrado Epa Dha Se...</td>\n",
       "      <td>2</td>\n",
       "      <td>ouR$ 110,00</td>\n",
       "    </tr>\n",
       "  </tbody>\n",
       "</table>\n",
       "</div>"
      ],
      "text/plain": [
       "                                               title stock_availability  \\\n",
       "0  2x Omega 3 1360mg Ultra Concentrado Epa Dha Se...                  2   \n",
       "\n",
       "         price  \n",
       "0  ouR$ 110,00  "
      ]
     },
     "execution_count": 9,
     "metadata": {},
     "output_type": "execute_result"
    }
   ],
   "source": [
    "data = pd.DataFrame(df) # transformando em dataframe pandas\n",
    "data"
   ]
  },
  {
   "cell_type": "code",
   "execution_count": null,
   "metadata": {},
   "outputs": [],
   "source": []
  }
 ],
 "metadata": {
  "kernelspec": {
   "display_name": ".venv",
   "language": "python",
   "name": "python3"
  },
  "language_info": {
   "codemirror_mode": {
    "name": "ipython",
    "version": 3
   },
   "file_extension": ".py",
   "mimetype": "text/x-python",
   "name": "python",
   "nbconvert_exporter": "python",
   "pygments_lexer": "ipython3",
   "version": "3.10.12"
  }
 },
 "nbformat": 4,
 "nbformat_minor": 2
}
