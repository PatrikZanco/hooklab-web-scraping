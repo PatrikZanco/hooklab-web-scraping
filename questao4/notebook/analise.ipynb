{
 "cells": [
  {
   "cell_type": "code",
   "execution_count": null,
   "metadata": {},
   "outputs": [
    {
     "data": {
      "text/html": [
       "<div>\n",
       "<style scoped>\n",
       "    .dataframe tbody tr th:only-of-type {\n",
       "        vertical-align: middle;\n",
       "    }\n",
       "\n",
       "    .dataframe tbody tr th {\n",
       "        vertical-align: top;\n",
       "    }\n",
       "\n",
       "    .dataframe thead th {\n",
       "        text-align: right;\n",
       "    }\n",
       "</style>\n",
       "<table border=\"1\" class=\"dataframe\">\n",
       "  <thead>\n",
       "    <tr style=\"text-align: right;\">\n",
       "      <th></th>\n",
       "      <th>Login</th>\n",
       "      <th>Idade</th>\n",
       "      <th>Sexo</th>\n",
       "      <th>Item ID</th>\n",
       "      <th>Nome do Item</th>\n",
       "      <th>Valor</th>\n",
       "    </tr>\n",
       "  </thead>\n",
       "  <tbody>\n",
       "    <tr>\n",
       "      <th>0</th>\n",
       "      <td>Aelalis34</td>\n",
       "      <td>38</td>\n",
       "      <td>Masculino</td>\n",
       "      <td>165</td>\n",
       "      <td>Bone Crushing Silver Skewer</td>\n",
       "      <td>3.37</td>\n",
       "    </tr>\n",
       "    <tr>\n",
       "      <th>1</th>\n",
       "      <td>Eolo46</td>\n",
       "      <td>21</td>\n",
       "      <td>Masculino</td>\n",
       "      <td>119</td>\n",
       "      <td>Stormbringer, Dark Blade of Ending Misery</td>\n",
       "      <td>2.32</td>\n",
       "    </tr>\n",
       "    <tr>\n",
       "      <th>2</th>\n",
       "      <td>Assastnya25</td>\n",
       "      <td>34</td>\n",
       "      <td>Masculino</td>\n",
       "      <td>174</td>\n",
       "      <td>Primitive Blade</td>\n",
       "      <td>2.46</td>\n",
       "    </tr>\n",
       "    <tr>\n",
       "      <th>3</th>\n",
       "      <td>Pheusrical25</td>\n",
       "      <td>21</td>\n",
       "      <td>Masculino</td>\n",
       "      <td>92</td>\n",
       "      <td>Final Critic</td>\n",
       "      <td>1.36</td>\n",
       "    </tr>\n",
       "    <tr>\n",
       "      <th>4</th>\n",
       "      <td>Aela59</td>\n",
       "      <td>23</td>\n",
       "      <td>Masculino</td>\n",
       "      <td>63</td>\n",
       "      <td>Stormfury Mace</td>\n",
       "      <td>1.27</td>\n",
       "    </tr>\n",
       "  </tbody>\n",
       "</table>\n",
       "</div>"
      ],
      "text/plain": [
       "          Login  Idade       Sexo  Item ID  \\\n",
       "0     Aelalis34     38  Masculino      165   \n",
       "1        Eolo46     21  Masculino      119   \n",
       "2   Assastnya25     34  Masculino      174   \n",
       "3  Pheusrical25     21  Masculino       92   \n",
       "4        Aela59     23  Masculino       63   \n",
       "\n",
       "                                Nome do Item  Valor  \n",
       "0                Bone Crushing Silver Skewer   3.37  \n",
       "1  Stormbringer, Dark Blade of Ending Misery   2.32  \n",
       "2                            Primitive Blade   2.46  \n",
       "3                               Final Critic   1.36  \n",
       "4                             Stormfury Mace   1.27  "
      ]
     },
     "execution_count": 42,
     "metadata": {},
     "output_type": "execute_result"
    }
   ],
   "source": [
    "import pandas as pd\n",
    "import seaborn as sns\n",
    "import matplotlib.pyplot as plt\n",
    "\n",
    "df = pd.read_json(\"data/dados_compras.json\") #carregar os dados JSON utilizando a biblioteca Pandas.\n",
    "\n",
    "df.head() #examinando as primeiras linhas para vizualizar a estrutura"
   ]
  },
  {
   "cell_type": "code",
   "execution_count": 43,
   "metadata": {},
   "outputs": [
    {
     "data": {
      "text/plain": [
       "Login           0\n",
       "Idade           0\n",
       "Sexo            0\n",
       "Item ID         0\n",
       "Nome do Item    0\n",
       "Valor           0\n",
       "dtype: int64"
      ]
     },
     "execution_count": 43,
     "metadata": {},
     "output_type": "execute_result"
    }
   ],
   "source": [
    "df.isnull().sum() #verificando a presença de valores nulos"
   ]
  },
  {
   "cell_type": "code",
   "execution_count": 44,
   "metadata": {},
   "outputs": [
    {
     "data": {
      "text/plain": [
       "(780, 6)"
      ]
     },
     "execution_count": 44,
     "metadata": {},
     "output_type": "execute_result"
    }
   ],
   "source": [
    "df.shape #analisando o numero de linhas/ registros, podemos pressupor que o numero total da quantidade de compras realizadas foi de 780"
   ]
  },
  {
   "cell_type": "code",
   "execution_count": 45,
   "metadata": {},
   "outputs": [
    {
     "data": {
      "text/plain": [
       "count    780.000000\n",
       "mean       2.931192\n",
       "std        1.115780\n",
       "min        1.030000\n",
       "25%        1.960000\n",
       "50%        2.880000\n",
       "75%        3.910000\n",
       "max        4.950000\n",
       "Name: Valor, dtype: float64"
      ]
     },
     "execution_count": 45,
     "metadata": {},
     "output_type": "execute_result"
    }
   ],
   "source": [
    "df['Valor'].describe() #com o describe podemos ver a média, o mínimo e o máximo gasto por compra"
   ]
  },
  {
   "cell_type": "code",
   "execution_count": null,
   "metadata": {},
   "outputs": [
    {
     "name": "stdout",
     "output_type": "stream",
     "text": [
      "Valor mínimo:  1.03\n",
      "Valor médio:  2.9311923076923074\n",
      "Valor máximo:  4.95\n"
     ]
    }
   ],
   "source": [
    "print(\"Valor mínimo: \",df['Valor'].min()) #minimo\n",
    "print(\"Valor médio: \",df['Valor'].mean()) #média\n",
    "print(\"Valor máximo: \",df['Valor'].max()) # máximo\n"
   ]
  },
  {
   "cell_type": "code",
   "execution_count": 46,
   "metadata": {},
   "outputs": [
    {
     "name": "stdout",
     "output_type": "stream",
     "text": [
      "Produto mais caro:\n",
      " Login           Saistyphos30\n",
      "Idade                     32\n",
      "Sexo                Feminino\n",
      "Item ID                   32\n",
      "Nome do Item         Orenmir\n",
      "Valor                   4.95\n",
      "Name: 50, dtype: object\n",
      "------------------------------\n",
      "Produto mais barato:\n",
      " Login           Chamjasknya65\n",
      "Idade                      20\n",
      "Sexo                Masculino\n",
      "Item ID                    25\n",
      "Nome do Item        Hero Cane\n",
      "Valor                    1.03\n",
      "Name: 38, dtype: object\n"
     ]
    }
   ],
   "source": [
    "# Produto mais caro\n",
    "df_produto_mais_caro = df.loc[df['Valor'].idxmax()]\n",
    "\n",
    "# Produto mais barato\n",
    "df_produto_mais_barato = df.loc[df['Valor'].idxmin()]\n",
    "\n",
    "print(\"Produto mais caro:\\n\", df_produto_mais_caro)\n",
    "print('-'*30)\n",
    "print(\"Produto mais barato:\\n\", df_produto_mais_barato)"
   ]
  },
  {
   "cell_type": "code",
   "execution_count": 51,
   "metadata": {},
   "outputs": [
    {
     "data": {
      "text/plain": [
       "<Axes: xlabel='count', ylabel='Sexo'>"
      ]
     },
     "execution_count": 51,
     "metadata": {},
     "output_type": "execute_result"
    },
    {
     "data": {
      "image/png": "[encoded data removed]",
      "text/plain": [
       "<Figure size 640x480 with 1 Axes>"
      ]
     },
     "metadata": {},
     "output_type": "display_data"
    }
   ],
   "source": [
    "#Analise a distribuição de gênero entre os consumidores.\n",
    "sns.countplot(df['Sexo'])"
   ]
  },
  {
   "cell_type": "code",
   "execution_count": 48,
   "metadata": {},
   "outputs": [
    {
     "name": "stdout",
     "output_type": "stream",
     "text": [
      "Sexo\n",
      "Feminino                  382.91\n",
      "Masculino                1867.68\n",
      "Outro / Não Divulgado      35.74\n",
      "Name: Valor, dtype: float64\n"
     ]
    }
   ],
   "source": [
    "#Calculando o valor total gasto em compras por gênero.\n",
    "valor_total_gasto_genero = df.groupby('Sexo')['Valor'].sum()\n",
    "print(valor_total_gasto_genero)"
   ]
  },
  {
   "cell_type": "code",
   "execution_count": 49,
   "metadata": {},
   "outputs": [
    {
     "data": {
      "image/png": "[encoded data removed]",
      "text/plain": [
       "<Figure size 800x600 with 1 Axes>"
      ]
     },
     "metadata": {},
     "output_type": "display_data"
    }
   ],
   "source": [
    "plt.figure(figsize=(8, 6))\n",
    "valor_total_gasto_genero.plot(kind='bar', color='b')\n",
    "\n",
    "# Adicionando título e rótulos\n",
    "plt.title(\"Total de Valor Gasto por Gênero\")\n",
    "plt.xlabel(\"Gênero\")\n",
    "plt.ylabel(\"Valor Total Gasto\")\n",
    "plt.xticks(rotation=1)  # Mantém os rótulos do eixo x na horizontal\n",
    "\n",
    "# Exibindo o gráfico\n",
    "plt.show()"
   ]
  }
 ],
 "metadata": {
  "kernelspec": {
   "display_name": ".venv",
   "language": "python",
   "name": "python3"
  },
  "language_info": {
   "codemirror_mode": {
    "name": "ipython",
    "version": 3
   },
   "file_extension": ".py",
   "mimetype": "text/x-python",
   "name": "python",
   "nbconvert_exporter": "python",
   "pygments_lexer": "ipython3",
   "version": "3.10.12"
  }
 },
 "nbformat": 4,
 "nbformat_minor": 2
}
